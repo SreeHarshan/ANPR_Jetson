{
 "cells": [
  {
   "cell_type": "code",
   "execution_count": 5,
   "id": "e60694c2-21cf-42bc-beaa-c490e93c86b4",
   "metadata": {},
   "outputs": [
    {
     "name": "stdout",
     "output_type": "stream",
     "text": [
      "Collecting asyncio\n",
      "  Downloading asyncio-3.4.3-py3-none-any.whl (101 kB)\n",
      "\u001b[2K     \u001b[38;2;114;156;31m━━━━━━━━━━━━━━━━━━━━━━━━━━━━━━━━━━━━━\u001b[0m \u001b[32m101.8/101.8 KB\u001b[0m \u001b[31m279.6 kB/s\u001b[0m eta \u001b[36m0:00:00\u001b[0m1m241.1 kB/s\u001b[0m eta \u001b[36m0:00:01\u001b[0m\n",
      "Installing collected packages: asyncio\n",
      "Successfully installed asyncio-3.4.3\n"
     ]
    }
   ],
   "source": [
    "!pip install asyncio"
   ]
  },
  {
   "cell_type": "code",
   "execution_count": 1,
   "id": "253f98ed-1339-4295-8d45-80c0c60d4874",
   "metadata": {},
   "outputs": [
    {
     "name": "stderr",
     "output_type": "stream",
     "text": [
      "WARNING: Logging before InitGoogleLogging() is written to STDERR\n",
      "W0317 12:28:53.066015 15869 default_variables.cpp:433] Fail to open /proc/self/io: No such file or directory [2]\n"
     ]
    }
   ],
   "source": [
    "import cv2\n",
    "import torch\n",
    "from paddleocr import PaddleOCR\n",
    "from ultralytics import YOLO\n",
    "import os.path\n",
    "import csv\n",
    "import time\n",
    "from datetime import datetime"
   ]
  },
  {
   "cell_type": "code",
   "execution_count": 2,
   "id": "89e65087-95ee-411d-bd90-9717eee9aa04",
   "metadata": {},
   "outputs": [
    {
     "name": "stdout",
     "output_type": "stream",
     "text": [
      "sending data to server\n",
      "Response: {'status': True}\n"
     ]
    }
   ],
   "source": [
    "import requests\n",
    "url = \"http://192.168.102.58:5000/add_new_entry\"\n",
    "\n",
    "def send_to_server(plate_no,scan_time):\n",
    "    print(\"sending data to server\")\n",
    "    payload = {\n",
    "        \"plate_no\": plate_no,\n",
    "        \"scan_time\": scan_time\n",
    "    }\n",
    "    \n",
    "    response = requests.post(url, data=payload)\n",
    "\n",
    "    if response.status_code == 200:\n",
    "        print(\"Response:\", response.json())\n",
    "    else:\n",
    "        print(\"Failed to connect, status code:\", response.status_code)\n",
    "\n",
    "\n",
    "\n",
    "send_to_server(\"SLDKJF\",\"2025-03-17 14:30:00\")"
   ]
  },
  {
   "cell_type": "code",
   "execution_count": 3,
   "id": "42ba62a8-74f8-44d8-b135-adeb59734428",
   "metadata": {},
   "outputs": [
    {
     "name": "stdout",
     "output_type": "stream",
     "text": [
      "[2025/03/17 12:28:58] ppocr DEBUG: Namespace(help='==SUPPRESS==', use_gpu=False, use_xpu=False, use_npu=False, use_mlu=False, ir_optim=True, use_tensorrt=False, min_subgraph_size=15, precision='fp32', gpu_mem=500, gpu_id=0, image_dir=None, page_num=0, det_algorithm='DB', det_model_dir='/home/jetson/.paddleocr/whl/det/en/en_PP-OCRv3_det_infer', det_limit_side_len=960, det_limit_type='max', det_box_type='quad', det_db_thresh=0.3, det_db_box_thresh=0.6, det_db_unclip_ratio=1.5, max_batch_size=10, use_dilation=False, det_db_score_mode='fast', det_east_score_thresh=0.8, det_east_cover_thresh=0.1, det_east_nms_thresh=0.2, det_sast_score_thresh=0.5, det_sast_nms_thresh=0.2, det_pse_thresh=0, det_pse_box_thresh=0.85, det_pse_min_area=16, det_pse_scale=1, scales=[8, 16, 32], alpha=1.0, beta=1.0, fourier_degree=5, rec_algorithm='SVTR_LCNet', rec_model_dir='/home/jetson/.paddleocr/whl/rec/en/en_PP-OCRv4_rec_infer', rec_image_inverse=True, rec_image_shape='3, 48, 320', rec_batch_num=6, max_text_length=25, rec_char_dict_path='/home/jetson/Final year sem 8 project/NumberPlateDetection/.venv2/lib/python3.10/site-packages/paddleocr/ppocr/utils/en_dict.txt', use_space_char=True, vis_font_path='./doc/fonts/simfang.ttf', drop_score=0.5, e2e_algorithm='PGNet', e2e_model_dir=None, e2e_limit_side_len=768, e2e_limit_type='max', e2e_pgnet_score_thresh=0.5, e2e_char_dict_path='./ppocr/utils/ic15_dict.txt', e2e_pgnet_valid_set='totaltext', e2e_pgnet_mode='fast', use_angle_cls=True, cls_model_dir='/home/jetson/.paddleocr/whl/cls/ch_ppocr_mobile_v2.0_cls_infer', cls_image_shape='3, 48, 192', label_list=['0', '180'], cls_batch_num=6, cls_thresh=0.9, enable_mkldnn=False, cpu_threads=10, use_pdserving=False, warmup=False, sr_model_dir=None, sr_image_shape='3, 32, 128', sr_batch_num=1, draw_img_save_dir='./inference_results', save_crop_res=False, crop_res_save_dir='./output', use_mp=False, total_process_num=1, process_id=0, benchmark=False, save_log_path='./log_output/', show_log=True, use_onnx=False, return_word_box=False, output='./output', table_max_len=488, table_algorithm='TableAttn', table_model_dir=None, merge_no_span_structure=True, table_char_dict_path=None, formula_algorithm='LaTeXOCR', formula_model_dir=None, formula_char_dict_path=None, formula_batch_num=1, layout_model_dir=None, layout_dict_path=None, layout_score_threshold=0.5, layout_nms_threshold=0.5, kie_algorithm='LayoutXLM', ser_model_dir=None, re_model_dir=None, use_visual_backbone=True, ser_dict_path='../train_data/XFUND/class_list_xfun.txt', ocr_order_method=None, mode='structure', image_orientation=False, layout=True, table=True, formula=False, ocr=True, recovery=False, recovery_to_markdown=False, use_pdf2docx_api=False, invert=False, binarize=False, alphacolor=(255, 255, 255), lang='en', det=True, rec=True, type='ocr', savefile=False, ocr_version='PP-OCRv4', structure_version='PP-StructureV2')\n",
      "\n",
      "0: 1312x1728 (no detections), 1028.9ms\n",
      "Speed: 33.7ms preprocess, 1028.9ms inference, 1.7ms postprocess per image at shape (1, 3, 1312, 1728)\n",
      "\n",
      "0: 1312x1728 1 license-plate, 973.7ms\n",
      "Speed: 26.0ms preprocess, 973.7ms inference, 2.5ms postprocess per image at shape (1, 3, 1312, 1728)\n",
      "[2025/03/17 12:29:04] ppocr DEBUG: dt_boxes num : 2, elapsed : 0.034532785415649414\n",
      "[2025/03/17 12:29:04] ppocr DEBUG: cls num  : 2, elapsed : 0.03672218322753906\n",
      "[2025/03/17 12:29:04] ppocr DEBUG: rec_res num  : 2, elapsed : 0.3546299934387207\n",
      "AA7443\n",
      "\n",
      "0: 1312x1728 (no detections), 937.1ms\n",
      "Speed: 24.8ms preprocess, 937.1ms inference, 1.4ms postprocess per image at shape (1, 3, 1312, 1728)\n",
      "\n",
      "0: 1312x1728 (no detections), 914.2ms\n",
      "Speed: 25.3ms preprocess, 914.2ms inference, 1.3ms postprocess per image at shape (1, 3, 1312, 1728)\n",
      "\n",
      "0: 1312x1728 (no detections), 928.6ms\n",
      "Speed: 24.5ms preprocess, 928.6ms inference, 1.2ms postprocess per image at shape (1, 3, 1312, 1728)\n",
      "\n",
      "0: 1312x1728 1 license-plate, 930.8ms\n",
      "Speed: 23.4ms preprocess, 930.8ms inference, 1.9ms postprocess per image at shape (1, 3, 1312, 1728)\n",
      "[2025/03/17 12:29:08] ppocr DEBUG: dt_boxes num : 3, elapsed : 0.024392366409301758\n",
      "[2025/03/17 12:29:08] ppocr DEBUG: cls num  : 3, elapsed : 0.0390169620513916\n",
      "[2025/03/17 12:29:09] ppocr DEBUG: rec_res num  : 3, elapsed : 0.591515302658081\n",
      "148\n",
      "\n",
      "0: 1312x1728 1 license-plate, 1098.7ms\n",
      "Speed: 30.9ms preprocess, 1098.7ms inference, 5.6ms postprocess per image at shape (1, 3, 1312, 1728)\n",
      "[2025/03/17 12:29:10] ppocr DEBUG: dt_boxes num : 2, elapsed : 0.0235748291015625\n",
      "[2025/03/17 12:29:10] ppocr DEBUG: cls num  : 2, elapsed : 0.029193878173828125\n",
      "[2025/03/17 12:29:11] ppocr DEBUG: rec_res num  : 2, elapsed : 0.35083866119384766\n",
      "TN48AA7443\n",
      "\n",
      "0: 1312x1728 1 license-plate, 881.7ms\n",
      "Speed: 25.9ms preprocess, 881.7ms inference, 1.8ms postprocess per image at shape (1, 3, 1312, 1728)\n",
      "[2025/03/17 12:29:12] ppocr DEBUG: dt_boxes num : 2, elapsed : 0.023253679275512695\n",
      "[2025/03/17 12:29:12] ppocr DEBUG: cls num  : 2, elapsed : 0.027738094329833984\n",
      "[2025/03/17 12:29:12] ppocr DEBUG: rec_res num  : 2, elapsed : 0.3442354202270508\n",
      "AA7443\n",
      "\n",
      "0: 1312x1728 1 license-plate, 896.6ms\n",
      "Speed: 24.7ms preprocess, 896.6ms inference, 1.9ms postprocess per image at shape (1, 3, 1312, 1728)\n",
      "[2025/03/17 12:29:13] ppocr DEBUG: dt_boxes num : 2, elapsed : 0.02299022674560547\n",
      "[2025/03/17 12:29:13] ppocr DEBUG: cls num  : 2, elapsed : 0.032225847244262695\n",
      "[2025/03/17 12:29:13] ppocr DEBUG: rec_res num  : 2, elapsed : 0.34427690505981445\n",
      "AA7443\n",
      "\n",
      "0: 1312x1728 1 license-plate, 1047.8ms\n",
      "Speed: 25.2ms preprocess, 1047.8ms inference, 1.9ms postprocess per image at shape (1, 3, 1312, 1728)\n",
      "[2025/03/17 12:29:14] ppocr DEBUG: dt_boxes num : 2, elapsed : 0.023189544677734375\n",
      "[2025/03/17 12:29:14] ppocr DEBUG: cls num  : 2, elapsed : 0.027346372604370117\n",
      "[2025/03/17 12:29:15] ppocr DEBUG: rec_res num  : 2, elapsed : 0.3437812328338623\n",
      "TN48AA7443\n",
      "function called\n",
      "\n",
      "0: 1312x1728 1 license-plate, 897.4ms\n",
      "Speed: 23.8ms preprocess, 897.4ms inference, 1.9ms postprocess per image at shape (1, 3, 1312, 1728)\n",
      "[2025/03/17 12:29:16] ppocr DEBUG: dt_boxes num : 2, elapsed : 0.026704072952270508\n",
      "[2025/03/17 12:29:16] ppocr DEBUG: cls num  : 2, elapsed : 0.033423662185668945\n",
      "[2025/03/17 12:29:16] ppocr DEBUG: rec_res num  : 2, elapsed : 0.343167781829834\n",
      "TN48AA7443\n",
      "\n",
      "0: 1312x1728 1 license-plate, 1047.2ms\n",
      "Speed: 29.5ms preprocess, 1047.2ms inference, 1.9ms postprocess per image at shape (1, 3, 1312, 1728)\n",
      "[2025/03/17 12:29:17] ppocr DEBUG: dt_boxes num : 2, elapsed : 0.02276468276977539\n",
      "[2025/03/17 12:29:17] ppocr DEBUG: cls num  : 2, elapsed : 0.028295040130615234\n",
      "[2025/03/17 12:29:18] ppocr DEBUG: rec_res num  : 2, elapsed : 0.3796093463897705\n",
      "AA7443\n",
      "\n",
      "0: 1312x1728 1 license-plate, 990.3ms\n",
      "Speed: 23.9ms preprocess, 990.3ms inference, 2.5ms postprocess per image at shape (1, 3, 1312, 1728)\n",
      "[2025/03/17 12:29:19] ppocr DEBUG: dt_boxes num : 2, elapsed : 0.02666759490966797\n",
      "[2025/03/17 12:29:19] ppocr DEBUG: cls num  : 2, elapsed : 0.03171038627624512\n",
      "[2025/03/17 12:29:19] ppocr DEBUG: rec_res num  : 2, elapsed : 0.3453080654144287\n",
      "TN48AA7443\n",
      "function called\n",
      "\n",
      "0: 1312x1728 1 license-plate, 1126.8ms\n",
      "Speed: 29.4ms preprocess, 1126.8ms inference, 1.9ms postprocess per image at shape (1, 3, 1312, 1728)\n",
      "[2025/03/17 12:29:21] ppocr DEBUG: dt_boxes num : 2, elapsed : 0.026926517486572266\n",
      "[2025/03/17 12:29:21] ppocr DEBUG: cls num  : 2, elapsed : 0.033206939697265625\n"
     ]
    },
    {
     "ename": "KeyboardInterrupt",
     "evalue": "",
     "output_type": "error",
     "traceback": [
      "\u001b[0;31m---------------------------------------------------------------------------\u001b[0m",
      "\u001b[0;31mKeyboardInterrupt\u001b[0m                         Traceback (most recent call last)",
      "Cell \u001b[0;32mIn[3], line 61\u001b[0m\n\u001b[1;32m     58\u001b[0m plate_roi \u001b[38;5;241m=\u001b[39m frame[y1:y2, x1:x2]  \u001b[38;5;66;03m# Crop number plate region\u001b[39;00m\n\u001b[1;32m     60\u001b[0m \u001b[38;5;66;03m# Perform OCR\u001b[39;00m\n\u001b[0;32m---> 61\u001b[0m text_results \u001b[38;5;241m=\u001b[39m \u001b[43mreader\u001b[49m\u001b[38;5;241;43m.\u001b[39;49m\u001b[43mocr\u001b[49m\u001b[43m(\u001b[49m\u001b[43mplate_roi\u001b[49m\u001b[43m)\u001b[49m\n\u001b[1;32m     62\u001b[0m \u001b[38;5;66;03m# print(text_results)\u001b[39;00m\n\u001b[1;32m     63\u001b[0m plate_text\u001b[38;5;241m=\u001b[39m\u001b[38;5;124m\"\u001b[39m\u001b[38;5;124m\"\u001b[39m\n",
      "File \u001b[0;32m~/Final year sem 8 project/NumberPlateDetection/.venv2/lib/python3.10/site-packages/paddleocr/paddleocr.py:760\u001b[0m, in \u001b[0;36mPaddleOCR.ocr\u001b[0;34m(self, img, det, rec, cls, bin, inv, alpha_color, slice)\u001b[0m\n\u001b[1;32m    758\u001b[0m \u001b[38;5;28;01mfor\u001b[39;00m img \u001b[38;5;129;01min\u001b[39;00m imgs:\n\u001b[1;32m    759\u001b[0m     img \u001b[38;5;241m=\u001b[39m preprocess_image(img)\n\u001b[0;32m--> 760\u001b[0m     dt_boxes, rec_res, _ \u001b[38;5;241m=\u001b[39m \u001b[38;5;28;43mself\u001b[39;49m\u001b[38;5;241;43m.\u001b[39;49m\u001b[38;5;21;43m__call__\u001b[39;49m\u001b[43m(\u001b[49m\u001b[43mimg\u001b[49m\u001b[43m,\u001b[49m\u001b[43m \u001b[49m\u001b[38;5;28;43mcls\u001b[39;49m\u001b[43m,\u001b[49m\u001b[43m \u001b[49m\u001b[38;5;28;43mslice\u001b[39;49m\u001b[43m)\u001b[49m\n\u001b[1;32m    761\u001b[0m     \u001b[38;5;28;01mif\u001b[39;00m \u001b[38;5;129;01mnot\u001b[39;00m dt_boxes \u001b[38;5;129;01mand\u001b[39;00m \u001b[38;5;129;01mnot\u001b[39;00m rec_res:\n\u001b[1;32m    762\u001b[0m         ocr_res\u001b[38;5;241m.\u001b[39mappend(\u001b[38;5;28;01mNone\u001b[39;00m)\n",
      "File \u001b[0;32m~/Final year sem 8 project/NumberPlateDetection/.venv2/lib/python3.10/site-packages/paddleocr/tools/infer/predict_system.py:144\u001b[0m, in \u001b[0;36mTextSystem.__call__\u001b[0;34m(self, img, cls, slice)\u001b[0m\n\u001b[1;32m    139\u001b[0m \u001b[38;5;28;01mif\u001b[39;00m \u001b[38;5;28mlen\u001b[39m(img_crop_list) \u001b[38;5;241m>\u001b[39m \u001b[38;5;241m1000\u001b[39m:\n\u001b[1;32m    140\u001b[0m     logger\u001b[38;5;241m.\u001b[39mdebug(\n\u001b[1;32m    141\u001b[0m         \u001b[38;5;124mf\u001b[39m\u001b[38;5;124m\"\u001b[39m\u001b[38;5;124mrec crops num: \u001b[39m\u001b[38;5;132;01m{\u001b[39;00m\u001b[38;5;28mlen\u001b[39m(img_crop_list)\u001b[38;5;132;01m}\u001b[39;00m\u001b[38;5;124m, time and memory cost may be large.\u001b[39m\u001b[38;5;124m\"\u001b[39m\n\u001b[1;32m    142\u001b[0m     )\n\u001b[0;32m--> 144\u001b[0m rec_res, elapse \u001b[38;5;241m=\u001b[39m \u001b[38;5;28;43mself\u001b[39;49m\u001b[38;5;241;43m.\u001b[39;49m\u001b[43mtext_recognizer\u001b[49m\u001b[43m(\u001b[49m\u001b[43mimg_crop_list\u001b[49m\u001b[43m)\u001b[49m\n\u001b[1;32m    145\u001b[0m time_dict[\u001b[38;5;124m\"\u001b[39m\u001b[38;5;124mrec\u001b[39m\u001b[38;5;124m\"\u001b[39m] \u001b[38;5;241m=\u001b[39m elapse\n\u001b[1;32m    146\u001b[0m logger\u001b[38;5;241m.\u001b[39mdebug(\u001b[38;5;124m\"\u001b[39m\u001b[38;5;124mrec_res num  : \u001b[39m\u001b[38;5;132;01m{}\u001b[39;00m\u001b[38;5;124m, elapsed : \u001b[39m\u001b[38;5;132;01m{}\u001b[39;00m\u001b[38;5;124m\"\u001b[39m\u001b[38;5;241m.\u001b[39mformat(\u001b[38;5;28mlen\u001b[39m(rec_res), elapse))\n",
      "File \u001b[0;32m~/Final year sem 8 project/NumberPlateDetection/.venv2/lib/python3.10/site-packages/paddleocr/tools/infer/predict_rec.py:793\u001b[0m, in \u001b[0;36mTextRecognizer.__call__\u001b[0;34m(self, img_list)\u001b[0m\n\u001b[1;32m    791\u001b[0m \u001b[38;5;28;01melse\u001b[39;00m:\n\u001b[1;32m    792\u001b[0m     \u001b[38;5;28mself\u001b[39m\u001b[38;5;241m.\u001b[39minput_tensor\u001b[38;5;241m.\u001b[39mcopy_from_cpu(norm_img_batch)\n\u001b[0;32m--> 793\u001b[0m     \u001b[38;5;28;43mself\u001b[39;49m\u001b[38;5;241;43m.\u001b[39;49m\u001b[43mpredictor\u001b[49m\u001b[38;5;241;43m.\u001b[39;49m\u001b[43mrun\u001b[49m\u001b[43m(\u001b[49m\u001b[43m)\u001b[49m\n\u001b[1;32m    794\u001b[0m     outputs \u001b[38;5;241m=\u001b[39m []\n\u001b[1;32m    795\u001b[0m     \u001b[38;5;28;01mfor\u001b[39;00m output_tensor \u001b[38;5;129;01min\u001b[39;00m \u001b[38;5;28mself\u001b[39m\u001b[38;5;241m.\u001b[39moutput_tensors:\n",
      "\u001b[0;31mKeyboardInterrupt\u001b[0m: "
     ]
    }
   ],
   "source": [
    "# Load YOLOv8 trained model\n",
    "model = YOLO(\"best.pt\")  # Replace with your trained model path\n",
    "\n",
    "# Initialize EasyOCR for text recognition\n",
    "reader = PaddleOCR(use_angle_cls=True,lang='en')  # Supports multiple languages if needed\n",
    "\n",
    "# Open video file\n",
    "# video_path = \"demo.mp4\"\n",
    "# cap = cv2.VideoCapture(video_path)\n",
    "\n",
    "# Live cam\n",
    "url = \"http://192.168.102.209:8080/video\"\n",
    "cap = cv2.VideoCapture(url)\n",
    "\n",
    "# Get video properties\n",
    "width = int(cap.get(cv2.CAP_PROP_FRAME_WIDTH))\n",
    "height = int(cap.get(cv2.CAP_PROP_FRAME_HEIGHT))\n",
    "fps = int(cap.get(cv2.CAP_PROP_FPS))\n",
    "\n",
    "# Define video writer\n",
    "output_video = cv2.VideoWriter(\"output2.mp4\", cv2.VideoWriter_fourcc(*\"mp4v\"), fps, (width, height))\n",
    "\n",
    "# Threshold\n",
    "THRESHOLD = 0.9\n",
    "\n",
    "# Frame count to take 2 one frame per sec\n",
    "FRAME_COUNT = 24\n",
    "CUR_COUNT = 0\n",
    "\n",
    "# Plate\n",
    "plates = []\n",
    "plate_d = dict()\n",
    "plates_to_send=[]\n",
    "\n",
    "# CSV file setup\n",
    "csv_filename = \"license_plates.csv\"\n",
    "if(not os.path.isfile(csv_filename)):\n",
    "    with open(csv_filename, mode=\"w\", newline=\"\") as file:\n",
    "        writer = csv.writer(file)\n",
    "        writer.writerow([\"License Plate\", \"TimeStamp\"])\n",
    "\n",
    "while cap.isOpened():\n",
    "    ret, frame = cap.read()\n",
    "    if not ret:\n",
    "        break\n",
    "    CUR_COUNT += 1\n",
    "    if(CUR_COUNT < FRAME_COUNT):\n",
    "        continue\n",
    "    CUR_COUNT = 0\n",
    "\n",
    "    # Perform YOLO detection\n",
    "    results = model(frame)\n",
    "\n",
    "    for result in results:\n",
    "        boxes = result.boxes.xyxy  # Get bounding box coordinates\n",
    "        for box in boxes:\n",
    "            x1, y1, x2, y2 = map(int, box)\n",
    "            plate_roi = frame[y1:y2, x1:x2]  # Crop number plate region\n",
    "\n",
    "            # Perform OCR\n",
    "            text_results = reader.ocr(plate_roi)\n",
    "            # print(text_results)\n",
    "            plate_text=\"\"\n",
    "            if text_results[0] is not None:\n",
    "                for line in text_results[0]:\n",
    "                    if(line[1][1]>=THRESHOLD):\n",
    "                        plate_text+=line[1][0]\n",
    "                print(plate_text)\n",
    "\n",
    "\n",
    "            # Draw bounding box and text on frame\n",
    "            if(plate_text != \"\" and len(plate_text)>=9):\n",
    "                cv2.rectangle(frame, (x1, y1), (x2, y2), (0, 255, 0), 2)\n",
    "                cv2.putText(frame, plate_text, (x1, y1 - 10), cv2.FONT_HERSHEY_SIMPLEX, 0.7, (0, 255, 0), 2)\n",
    "\n",
    "                # Check if plate has detected 5 times\n",
    "                if(plate_text not in plate_d.keys()):\n",
    "                    plate_d[plate_text] = 1\n",
    "                else:\n",
    "                    plate_d[plate_text] += 1\n",
    "                if(plate_d[plate_text] >= 2):\n",
    "                    timestamp = datetime.now().strftime(\"%Y-%m-%d %H:%M:%S\")\n",
    "                    plate_d[plate_text] = 0\n",
    "                    print(\"function called\")\n",
    "                    # send_to_server(plate_text,timestamp)\n",
    "                    plates_to_send.append((plate_text,timestamp))\n",
    "                    \n",
    "\n",
    "    # Save frame to video\n",
    "    # output_video.write(frame)\n",
    "\n",
    "    # Display video in real-time \n",
    "    \n",
    "    cv2.imshow(\"ANPR\", frame)\n",
    "    if cv2.waitKey(1) & 0xFF == ord('q'):\n",
    "        break\n",
    "    \n",
    "\n",
    "# Release resources\n",
    "cap.release()\n",
    "output_video.release()\n",
    "cv2.destroyAllWindows()"
   ]
  },
  {
   "cell_type": "code",
   "execution_count": null,
   "id": "b096c251-bfd3-4008-98dc-f72c0fcdbf8e",
   "metadata": {},
   "outputs": [
    {
     "name": "stdout",
     "output_type": "stream",
     "text": [
      "[('TN48AA7443', '12:29:15 PM on March 17, 2025'), ('TN48AA7443', '12:29:19 PM on March 17, 2025')]\n",
      "TN48AA7443\n",
      "12:29:15 PM on March 17, 2025\n",
      "sending data to server\n"
     ]
    }
   ],
   "source": [
    "print(plates_to_send)\n",
    "for i,j in plates_to_send:\n",
    "    print(i)\n",
    "    print(j)\n",
    "    send_to_server(i,j)"
   ]
  },
  {
   "cell_type": "code",
   "execution_count": null,
   "id": "ac7f172a-5dfc-4f74-8e2f-dd1b9ad62d40",
   "metadata": {},
   "outputs": [
    {
     "name": "stdout",
     "output_type": "stream",
     "text": [
      "sending data to server\n"
     ]
    }
   ],
   "source": [
    "send_to_server(\"TN48AA7443\",\"12:23:44 PM on March 17, 2025\")"
   ]
  },
  {
   "cell_type": "code",
   "execution_count": 5,
   "id": "4fad5f6d-bd4a-487b-9c7e-1b5e241b43dd",
   "metadata": {},
   "outputs": [],
   "source": [
    "f = open(\"detected_plates.txt\",\"w+\")\n",
    "f.write(\"\\n\".join(plates))\n",
    "f.close()"
   ]
  },
  {
   "cell_type": "code",
   "execution_count": null,
   "id": "4e54a65f-d653-43b3-b976-c154e9dba463",
   "metadata": {},
   "outputs": [],
   "source": [
    "l = [\n",
    "    [[[[38.0, 16.0], [168.0, 8.0], [171.0, 50.0], [41.0, 58.0]], ('TN33B', 0.9214908480644226)], [[[10.0, 55.0], [31.0, 55.0], [31.0, 70.0], [10.0, 70.0]], ('NO', 0.8470568656921387)], [[[41.0, 60.0], [167.0, 52.0], [170.0, 94.0], [44.0, 102.0]], ('Y5979', 0.9254600405693054)]]\n",
    "]\n",
    "import pprint\n",
    "# pprint.pprint(l[0][0])\n",
    "text=\"\"\n",
    "for line in l[0]:\n",
    "    if(line[1][1]>=0.9):\n",
    "        text+=line[1][0]\n",
    "print(text)"
   ]
  },
  {
   "cell_type": "code",
   "execution_count": 8,
   "id": "42d6949a-6977-4cbc-a46b-47024dce4af0",
   "metadata": {},
   "outputs": [],
   "source": [
    "with open(csv_filename, mode=\"w\", newline=\"\") as file:\n",
    "        writer = csv.writer(file)\n",
    "        writer.writerow([\"Timestamp\", \"License Plate\"])"
   ]
  },
  {
   "cell_type": "code",
   "execution_count": null,
   "id": "2992f769-39ed-4982-ae0f-1330921fb6b1",
   "metadata": {},
   "outputs": [],
   "source": []
  }
 ],
 "metadata": {
  "kernelspec": {
   "display_name": "Python 3 (ipykernel)",
   "language": "python",
   "name": "python3"
  },
  "language_info": {
   "codemirror_mode": {
    "name": "ipython",
    "version": 3
   },
   "file_extension": ".py",
   "mimetype": "text/x-python",
   "name": "python",
   "nbconvert_exporter": "python",
   "pygments_lexer": "ipython3",
   "version": "3.10.12"
  }
 },
 "nbformat": 4,
 "nbformat_minor": 5
}
